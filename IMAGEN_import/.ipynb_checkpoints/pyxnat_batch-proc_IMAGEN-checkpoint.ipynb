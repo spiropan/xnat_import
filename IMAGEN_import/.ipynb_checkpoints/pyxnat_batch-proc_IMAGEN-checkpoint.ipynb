{
 "cells": [
  {
   "cell_type": "code",
   "execution_count": 4,
   "metadata": {
    "collapsed": false
   },
   "outputs": [
    {
     "name": "stdout",
     "output_type": "stream",
     "text": [
      "MIND_S04136\n",
      "True\n",
      "Subject label: 000091899826\n",
      "IMAGEN_TEST_000091899826_MR1\n",
      "True\n",
      "MIND_E04145\n",
      "Now submitting to SGE\n",
      "MIND_S04137\n",
      "True\n",
      "Subject label: 000009101441\n",
      "IMAGEN_TEST_000009101441_MR1\n",
      "True\n",
      "MIND_E04146\n",
      "Now submitting to SGE\n",
      "MIND_S04134\n",
      "True\n",
      "Subject label: 000001357508\n",
      "IMAGEN_TEST_000001357508_MR1\n",
      "True\n",
      "MIND_E04143\n",
      "MIND_S04135\n",
      "True\n",
      "Subject label: 000074934634\n",
      "IMAGEN_TEST_000074934634_MR1\n",
      "True\n",
      "MIND_E04144\n",
      "Now submitting to SGE\n",
      "MIND_S04138\n",
      "True\n",
      "Subject label: 000075539097\n",
      "IMAGEN_TEST_000075539097_MR1\n",
      "True\n",
      "MIND_E04147\n",
      "Now submitting to SGE\n"
     ]
    }
   ],
   "source": [
    "# This script will 1) acquire list of subject for a project that have not had a particular\n",
    "# pipeline applied 2) use curl to apply that pipeline to the list of subjects.\n",
    "# This requires that the XNAT pipeline engine submits the pipelines to a scheduler (SGE) otherwise \n",
    "# the server will get overloaded.\n",
    "import pyxnat, os, time\n",
    "\n",
    "# Set project name\n",
    "project_name=\"IMAGEN\"\n",
    "scan_type='T1'\n",
    "\n",
    "# connect to XNAT instance\n",
    "xnat=pyxnat.Interface(config='/home/spantazatos/xnat_sp.cfg')\n",
    "#xnat = pyxnat.Interface(server='https://central.xnat.org',user='spiropan',password='xyz')\n",
    "\n",
    "# Get the list of subjects from the project\n",
    "subject_list=xnat.select('/projects/' + project_name + '/subjects/*').get()\n",
    "#expt_list=xnat.select('/projects/' + project_name + '/subjects/*/experiments/*').get()\n",
    "#print expt_list\n",
    "#subject_list=subject_list.sort()\n",
    "#for exp in expt_list:\n",
    "#for sub in subject_list:\n",
    "for sub in subject_list:\n",
    "    # Get the file objects\n",
    "    print sub\n",
    "    # The below works but may take a while for the query to implement\n",
    "    sub_obj=xnat.select('/projects/' + project_name + '/subjects/' + sub)\n",
    "    print sub_obj.exists()\n",
    "\n",
    "    sub_label = sub_obj.attrs.get('label')\n",
    "    print \"Subject label: \" + sub_label\n",
    "    \n",
    "    exp_label = project_name + \"_\" + sub_label + '_MR1'\n",
    "    print exp_label\n",
    "    #file=xnat.select('/projects/IXI/subjects/IXI012/experiments/IXI012_MR1/scans/T1/resources/VBM8/files/sm0wrp1T1.nii.gz')\n",
    "    file=xnat.select('/projects/' + project_name + '/subjects/' + sub_label + '/experiments/' + exp_label + '/scans/T1/resources/VBM8/files/sm0wrp1T1.nii.gz')\n",
    "    expt=xnat.select('/projects/' + project_name + '/subjects/' + sub_label + '/experiments/' + exp_label)\n",
    "    \n",
    "    #Below is the unique experiment accession ID required for the pipeline to launch\n",
    "    print expt.exists()\n",
    "    xnat_id = expt.attrs.get('ID') \n",
    "    print xnat_id\n",
    "    if not file.exists():\n",
    "        # if the file doesn't exist, then run the pipeline\n",
    "        uri='/data/projects/' + project_name + '/pipelines/SPM_VBM8_Segment/experiments/' + xnat_id + '?inbody=true'\n",
    "        print \"Now submitting to SGE\"\n",
    "        xnat._exec(uri,'POST')\n",
    "        time.sleep(20)\n",
    "    \n",
    "    #exp_obj=xnat.select('//experiments/' + exp)\n",
    "    #print exp_obj.scans(scan_type).resource('VBM8').file('sw0wrp1T1.nii.gz').content()\n",
    "    #rest_path='//experiments/' + exp *_MR1/scans/T1/resources/VBM8/*'\n",
    "    #print rest_path\n",
    "    #files=xnat.select(rest_path)\n",
    "    #for file in files:\n",
    "    #    print file.exists()\n"
   ]
  },
  {
   "cell_type": "code",
   "execution_count": null,
   "metadata": {
    "collapsed": false
   },
   "outputs": [],
   "source": [
    "import pandas as pd\n",
    "x1=pd.Index(['a','b','c','d'])\n",
    "x2=pd.Index(['a','c'])\n",
    "inter=pd.Index.intersection(x1,x2).tolist()\n",
    "print inter\n",
    "# Here retrieve original indeces\n",
    "x1_idx=['a','b','c','d'].index('c')\n",
    "print x1_idx"
   ]
  }
 ],
 "metadata": {
  "kernelspec": {
   "display_name": "Python [Root]",
   "language": "python",
   "name": "Python [Root]"
  },
  "language_info": {
   "codemirror_mode": {
    "name": "ipython",
    "version": 2
   },
   "file_extension": ".py",
   "mimetype": "text/x-python",
   "name": "python",
   "nbconvert_exporter": "python",
   "pygments_lexer": "ipython2",
   "version": "2.7.12"
  }
 },
 "nbformat": 4,
 "nbformat_minor": 1
}
